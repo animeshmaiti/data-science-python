{
 "cells": [
  {
   "cell_type": "code",
   "execution_count": null,
   "metadata": {},
   "outputs": [],
   "source": [
    "from flask import Flask, render_template, request, jsonify\n",
    "import joblib  # or any other library to load your machine learning model\n",
    "import pickle\n",
    "import pandas as pd\n",
    "import numpy as np\n",
    "from flask_cors import CORS\n",
    "\n",
    "path = 'clean_data.csv'\n",
    "data = pd.read_csv(path)\n",
    "data['PCOS_label'] = None\n",
    "\n",
    "data = data.set_index('PCOS_label')\n",
    "data = data.reset_index()\n",
    "\n",
    "def label(row):\n",
    "    if row['PCOS'] == 'Yes':\n",
    "        return 1\n",
    "    else:\n",
    "        return 0\n",
    "    \n",
    "data['PCOS_label'] = data.apply(lambda row: label(row), axis=1)\n",
    "\n",
    "PCOS_check = dict(zip(data.PCOS_label.unique(), data.PCOS.unique()))\n",
    "PCOS_check\n",
    "\n",
    "filename = 'model.pkl'\n",
    "loaded_model = pickle.load(open(filename, 'rb'))\n",
    "\n",
    "\n",
    "feature_cols = ['Period Length', 'Cycle Length', 'Age', 'Overweight', 'loss weight gain / weight loss', 'irregular or missed periods', 'Difficulty in conceiving', 'Hair growth on Chin', 'Hair growth  on Cheeks', 'Hair growth Between breasts',\n",
    "                'Hair growth  on Upper lips ', 'Hair growth in Arms', 'Hair growth on Inner thighs', 'Acne or skin tags', 'Hair thinning or hair loss ', 'Dark patches', 'always tired', 'more Mood Swings', 'exercise per week', 'eat outside per week', 'canned food often']\n",
    "\n",
    "app = Flask(__name__)\n",
    "CORS(app)\n",
    "# Load your machine learning model\n",
    "# Replace 'your_model_file.pkl' with the actual filename\n",
    "model = joblib.load('model.pkl')\n",
    "\n",
    "\n",
    "@app.route('/predict', methods=['POST'])\n",
    "def predict():\n",
    "    data=request.get_json()\n",
    "    x_test = data['features']\n",
    "    received_array = np.array(x_test).reshape(1, -1)\n",
    "    result = loaded_model.predict(received_array)\n",
    "    result=PCOS_check[result[0]]\n",
    "\n",
    "    print(received_array)\n",
    "    return jsonify({'result':result})\n",
    "\n",
    "if __name__ == '__main__':\n",
    "    app.run(port=5000)\n"
   ]
  }
 ],
 "metadata": {
  "kernelspec": {
   "display_name": "base",
   "language": "python",
   "name": "python3"
  },
  "language_info": {
   "codemirror_mode": {
    "name": "ipython",
    "version": 3
   },
   "file_extension": ".py",
   "mimetype": "text/x-python",
   "name": "python",
   "nbconvert_exporter": "python",
   "pygments_lexer": "ipython3",
   "version": "3.10.13"
  }
 },
 "nbformat": 4,
 "nbformat_minor": 2
}
