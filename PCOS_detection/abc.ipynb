{
 "cells": [
  {
   "cell_type": "code",
   "execution_count": 4,
   "metadata": {},
   "outputs": [
    {
     "name": "stdout",
     "output_type": "stream",
     "text": [
      " * Serving Flask app '__main__'\n",
      " * Debug mode: off\n"
     ]
    },
    {
     "name": "stderr",
     "output_type": "stream",
     "text": [
      "\u001b[31m\u001b[1mWARNING: This is a development server. Do not use it in a production deployment. Use a production WSGI server instead.\u001b[0m\n",
      " * Running on http://127.0.0.1:5000\n",
      "\u001b[33mPress CTRL+C to quit\u001b[0m\n"
     ]
    },
    {
     "name": "stderr",
     "output_type": "stream",
     "text": [
      "[2024-02-12 09:08:24,660] ERROR in app: Exception on /predict [POST]\n",
      "Traceback (most recent call last):\n",
      "  File \"/home/animesh/miniconda3/envs/myenv2/lib/python3.10/site-packages/flask/app.py\", line 1463, in wsgi_app\n",
      "    response = self.full_dispatch_request()\n",
      "  File \"/home/animesh/miniconda3/envs/myenv2/lib/python3.10/site-packages/flask/app.py\", line 872, in full_dispatch_request\n",
      "    rv = self.handle_user_exception(e)\n",
      "  File \"/home/animesh/miniconda3/envs/myenv2/lib/python3.10/site-packages/flask_cors/extension.py\", line 176, in wrapped_function\n",
      "    return cors_after_request(app.make_response(f(*args, **kwargs)))\n",
      "  File \"/home/animesh/miniconda3/envs/myenv2/lib/python3.10/site-packages/flask/app.py\", line 870, in full_dispatch_request\n",
      "    rv = self.dispatch_request()\n",
      "  File \"/home/animesh/miniconda3/envs/myenv2/lib/python3.10/site-packages/flask/app.py\", line 855, in dispatch_request\n",
      "    return self.ensure_sync(self.view_functions[rule.endpoint])(**view_args)  # type: ignore[no-any-return]\n",
      "  File \"/tmp/ipykernel_5616/3075141327.py\", line 43, in predict\n",
      "    x_test = data['features']\n",
      "KeyError: 'features'\n",
      "127.0.0.1 - - [12/Feb/2024 09:08:24] \"\u001b[35m\u001b[1mPOST /predict HTTP/1.1\u001b[0m\" 500 -\n",
      "/home/animesh/miniconda3/envs/myenv2/lib/python3.10/site-packages/sklearn/base.py:439: UserWarning: X does not have valid feature names, but DecisionTreeClassifier was fitted with feature names\n",
      "  warnings.warn(\n",
      "127.0.0.1 - - [12/Feb/2024 09:09:00] \"POST /predict HTTP/1.1\" 200 -\n"
     ]
    },
    {
     "name": "stdout",
     "output_type": "stream",
     "text": [
      "[[5 1 2 0 0 0 0 1 0 0 1 1 0 1 0 1 0 0 3 3 0]]\n"
     ]
    },
    {
     "name": "stderr",
     "output_type": "stream",
     "text": [
      "127.0.0.1 - - [12/Feb/2024 09:10:21] \"OPTIONS /predict HTTP/1.1\" 200 -\n",
      "/home/animesh/miniconda3/envs/myenv2/lib/python3.10/site-packages/sklearn/base.py:439: UserWarning: X does not have valid feature names, but DecisionTreeClassifier was fitted with feature names\n",
      "  warnings.warn(\n",
      "127.0.0.1 - - [12/Feb/2024 09:10:22] \"POST /predict HTTP/1.1\" 200 -\n"
     ]
    },
    {
     "name": "stdout",
     "output_type": "stream",
     "text": [
      "[[ 9  1  4  1  1  1  1  0  1  1  1  1  1  1  1  1  1  1  4 44  4]]\n"
     ]
    }
   ],
   "source": [
    "from flask import Flask, render_template, request, jsonify\n",
    "import joblib  # or any other library to load your machine learning model\n",
    "import pickle\n",
    "import pandas as pd\n",
    "import numpy as np\n",
    "from flask_cors import CORS\n",
    "\n",
    "path = 'clean_data.csv'\n",
    "data = pd.read_csv(path)\n",
    "data['PCOS_label'] = None\n",
    "\n",
    "data = data.set_index('PCOS_label')\n",
    "data = data.reset_index()\n",
    "\n",
    "def label(row):\n",
    "    if row['PCOS'] == 'Yes':\n",
    "        return 1\n",
    "    else:\n",
    "        return 0\n",
    "    \n",
    "data['PCOS_label'] = data.apply(lambda row: label(row), axis=1)\n",
    "\n",
    "PCOS_check = dict(zip(data.PCOS_label.unique(), data.PCOS.unique()))\n",
    "PCOS_check\n",
    "\n",
    "filename = 'model.pkl'\n",
    "loaded_model = pickle.load(open(filename, 'rb'))\n",
    "\n",
    "\n",
    "feature_cols = ['Period Length', 'Cycle Length', 'Age', 'Overweight', 'loss weight gain / weight loss', 'irregular or missed periods', 'Difficulty in conceiving', 'Hair growth on Chin', 'Hair growth  on Cheeks', 'Hair growth Between breasts',\n",
    "                'Hair growth  on Upper lips ', 'Hair growth in Arms', 'Hair growth on Inner thighs', 'Acne or skin tags', 'Hair thinning or hair loss ', 'Dark patches', 'always tired', 'more Mood Swings', 'exercise per week', 'eat outside per week', 'canned food often']\n",
    "\n",
    "app = Flask(__name__)\n",
    "CORS(app)\n",
    "# Load your machine learning model\n",
    "# Replace 'your_model_file.pkl' with the actual filename\n",
    "model = joblib.load('model.pkl')\n",
    "\n",
    "\n",
    "@app.route('/predict', methods=['POST'])\n",
    "def predict():\n",
    "    data=request.get_json()\n",
    "    x_test = data['features']\n",
    "    received_array = np.array(x_test).reshape(1, -1)\n",
    "    result = loaded_model.predict(received_array)\n",
    "    result=PCOS_check[result[0]]\n",
    "\n",
    "    print(received_array)\n",
    "    return jsonify({'result':result})\n",
    "\n",
    "if __name__ == '__main__':\n",
    "    app.run(port=5000)\n"
   ]
  }
 ],
 "metadata": {
  "kernelspec": {
   "display_name": "base",
   "language": "python",
   "name": "python3"
  },
  "language_info": {
   "codemirror_mode": {
    "name": "ipython",
    "version": 3
   },
   "file_extension": ".py",
   "mimetype": "text/x-python",
   "name": "python",
   "nbconvert_exporter": "python",
   "pygments_lexer": "ipython3",
   "version": "3.1.0"
  }
 },
 "nbformat": 4,
 "nbformat_minor": 2
}
